{
 "cells": [
  {
   "cell_type": "code",
   "execution_count": 1,
   "metadata": {},
   "outputs": [],
   "source": [
    "import torch\n",
    "import torch.nn as nn\n",
    "from transformers import XLMRobertaTokenizerFast\n",
    "from src.utils.decodertokens import UNMTDecoderTokens\n",
    "from src.models.models import UNMTEncoder, LSTM_ATTN_Decoder, SEQ2SEQ\n",
    "from torch.utils.data import DataLoader\n",
    "from src.utils.dataloader import UNMTDataset, data_collate\n"
   ]
  },
  {
   "cell_type": "code",
   "execution_count": null,
   "metadata": {},
   "outputs": [],
   "source": [
    "pretrained_type = 'xlm-roberta-base'\n",
    "tokenizer = XLMRobertaTokenizerFast.from_pretrained(pretrained_type)\n",
    "train_dataset = UNMTDataset(tokenizer = tokenizer,lang = 'hi',)\n",
    "train_loader = DataLoader(train_dataset, batch_size = 32, collate_fn = lambda x: data_collate(x, tokenizer))\n",
    "\n",
    "mydevice = torch.device('cuda' if torch.cuda.is_available() else 'cpu')\n",
    "\n",
    "mymode = 'Train'\n",
    "mydecoder_hidden_dim = 768"
   ]
  },
  {
   "cell_type": "code",
   "execution_count": null,
   "metadata": {},
   "outputs": [],
   "source": [
    "batch = next(iter(train_loader))\n",
    "input_ids, attention_mask, noisy_input_ids, noisy_attention_mask,orig_sentence, word_idx = batch\n",
    "print(input_ids.shape,\"\\n\", attention_mask.shape,\"\\n\", noisy_input_ids.shape,\"\\n\", noisy_attention_mask.shape,\"\\n\", orig_sentence,\"\\n\", word_idx)"
   ]
  },
  {
   "cell_type": "code",
   "execution_count": 4,
   "metadata": {},
   "outputs": [],
   "source": [
    "mySeq2Seq = SEQ2SEQ(tokenizer=tokenizer,mode=mymode).to(mydevice)"
   ]
  },
  {
   "cell_type": "code",
   "execution_count": 5,
   "metadata": {},
   "outputs": [],
   "source": [
    "outputs = mySeq2Seq(1,input_ids, attention_mask, noisy_input_ids, noisy_attention_mask)"
   ]
  },
  {
   "cell_type": "code",
   "execution_count": null,
   "metadata": {},
   "outputs": [],
   "source": [
    "print(outputs.shape)"
   ]
  }
 ],
 "metadata": {
  "kernelspec": {
   "display_name": "torchenv",
   "language": "python",
   "name": "python3"
  },
  "language_info": {
   "codemirror_mode": {
    "name": "ipython",
    "version": 3
   },
   "file_extension": ".py",
   "mimetype": "text/x-python",
   "name": "python",
   "nbconvert_exporter": "python",
   "pygments_lexer": "ipython3",
   "version": "3.10.13"
  }
 },
 "nbformat": 4,
 "nbformat_minor": 2
}
